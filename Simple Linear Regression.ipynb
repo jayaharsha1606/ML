{
 "cells": [
  {
   "cell_type": "code",
   "execution_count": 1,
   "metadata": {},
   "outputs": [],
   "source": [
    "import pandas as pd\n",
    "import numpy as np"
   ]
  },
  {
   "cell_type": "code",
   "execution_count": 54,
   "metadata": {},
   "outputs": [],
   "source": [
    "df = np.random.randint(0,10,size=(1000, 2))"
   ]
  },
  {
   "cell_type": "code",
   "execution_count": 58,
   "metadata": {
    "scrolled": true
   },
   "outputs": [],
   "source": [
    "from sklearn.model_selection import train_test_split\n",
    "\n",
    "train_df,test_df = train_test_split(df,test_size = 0.20)"
   ]
  },
  {
   "cell_type": "code",
   "execution_count": 87,
   "metadata": {},
   "outputs": [],
   "source": [
    "class LinearRegression:\n",
    "    def calculate_Slope_intercept(self,x_values,y_values):\n",
    "        ss_xy = 0\n",
    "        ss_xx = 0\n",
    "        for i in range(len(x_values)):\n",
    "            ss_xy += (x_values[i] - np.mean(x_values))*(y_values[i] - np.mean(y_values))\n",
    "            ss_xx += (x_values[i] - np.mean(x_values))**2\n",
    "        self.slope = ss_xy/ss_xx\n",
    "        self.intercept = np.mean(y_values) - self.slope*np.mean(x_values)\n",
    "\n",
    "        return slope,intercept\n",
    "    \n",
    "    def error_term(self,x_values,y_values):\n",
    "        mse = 0\n",
    "        mae = 0\n",
    "        for i,j in enumerate(x_values):\n",
    "            mse += ((y_values[i] - (self.slope*j + self.intercept))**2)\n",
    "            mae += np.abs((y_values[i] - (self.slope*j + self.intercept)))  \n",
    "        return mse/len(x_values),mae/len(x_values)\n",
    "    \n",
    "    def plot_graphs(self,x_values,y_values):\n",
    "        plt.scatter(x_values,y_values)\n",
    "        #df[:,0]\n",
    "        y_pred = []\n",
    "        for i in range(len(x_values)):\n",
    "            y_pred.append(self.slope*x_values[i] + self.intercept)\n",
    "        plt.plot(x_values,y_pred,color = 'g')\n",
    "        #abline(slope,intercept)\n",
    "        plt.show()\n",
    "        \n",
    "    def fit(self, df):\n",
    "        x_values = df[:,0]\n",
    "        y_values = df[:,1]\n",
    "        self.slope,self.intercept = self.calculate_Slope_intercept(x_values,y_values)\n",
    "        mse,mae = self.error_term(x_values,y_values)\n",
    "        self.plot_graphs(x_values,y_values)\n",
    "        return mse,mae\n",
    "    \n",
    "    def predict(self,x):\n",
    "        y_pred = []\n",
    "        for i,j in enumerate(x):\n",
    "            y_pred.append(self.slope*j + self.intercept)\n",
    "        return y_pred\n",
    "        \n",
    "    \n",
    "    def __init__(self):\n",
    "        self.slope = 0.00\n",
    "        self.intercept = 0.00"
   ]
  },
  {
   "cell_type": "code",
   "execution_count": 88,
   "metadata": {},
   "outputs": [],
   "source": [
    "lr = LinearRegression()"
   ]
  },
  {
   "cell_type": "code",
   "execution_count": 89,
   "metadata": {},
   "outputs": [
    {
     "data": {
      "image/png": "[encoded data removed]",
      "text/plain": [
       "<Figure size 432x288 with 1 Axes>"
      ]
     },
     "metadata": {
      "needs_background": "light"
     },
     "output_type": "display_data"
    },
    {
     "data": {
      "text/plain": [
       "(8.320100139882497, 2.5116186164886503)"
      ]
     },
     "execution_count": 89,
     "metadata": {},
     "output_type": "execute_result"
    }
   ],
   "source": [
    "lr.fit(train_df)"
   ]
  },
  {
   "cell_type": "code",
   "execution_count": 85,
   "metadata": {},
   "outputs": [],
   "source": [
    "predictions = lr.predict(test_df[:,0])"
   ]
  },
  {
   "cell_type": "code",
   "execution_count": 90,
   "metadata": {},
   "outputs": [
    {
     "data": {
      "text/plain": [
       "(7.996756184063173, 2.4736273364485966)"
      ]
     },
     "execution_count": 90,
     "metadata": {},
     "output_type": "execute_result"
    }
   ],
   "source": [
    "lr.error_term(test_df[:,0],test_df[:,1])"
   ]
  }
 ],
 "metadata": {
  "kernelspec": {
   "display_name": "Python 3",
   "language": "python",
   "name": "python3"
  },
  "language_info": {
   "codemirror_mode": {
    "name": "ipython",
    "version": 3
   },
   "file_extension": ".py",
   "mimetype": "text/x-python",
   "name": "python",
   "nbconvert_exporter": "python",
   "pygments_lexer": "ipython3",
   "version": "3.7.0"
  }
 },
 "nbformat": 4,
 "nbformat_minor": 2
}
