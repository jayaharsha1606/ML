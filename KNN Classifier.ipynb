{
 "cells": [
  {
   "cell_type": "code",
   "execution_count": 1,
   "metadata": {},
   "outputs": [],
   "source": [
    "import numpy as np"
   ]
  },
  {
   "cell_type": "code",
   "execution_count": 3,
   "metadata": {},
   "outputs": [],
   "source": [
    "df = np.random.randint(0,25,size = (1000,5))\n",
    "target = np.random.randint(0,2,size = (1000,1))"
   ]
  },
  {
   "cell_type": "code",
   "execution_count": 28,
   "metadata": {},
   "outputs": [],
   "source": [
    "class Knn:\n",
    "    def __init__(self):\n",
    "        self.df = []\n",
    "        self.target = []\n",
    "        self.distances = []\n",
    "        self.k = 5\n",
    "        self.labels = []\n",
    "    \n",
    "    def euclidean_distance(self,test,train):\n",
    "        tot = 0\n",
    "        for i,j in enumerate(test):\n",
    "            tot += (j - train[i])**2\n",
    "        return np.sqrt(tot)\n",
    "    \n",
    "    \n",
    "    def fit(self,df,target,k):\n",
    "        self.df = df\n",
    "        self.target = target\n",
    "        self.k = k\n",
    "        \n",
    "    def predict(self,test):\n",
    "        self.calc_dist_to_all_points(test)\n",
    "        self.return_top_k_lables()\n",
    "        return self.identify_classification()\n",
    "        \n",
    "\n",
    "    def calc_dist_to_all_points(self,test):\n",
    "        self.distances = [self.euclidean_distance(test,i) for i in self.df]\n",
    "\n",
    "\n",
    "    def return_top_k_lables(self):\n",
    "        indexes = np.argpartition(self.distances, -self.k)[-self.k:]\n",
    "        self.labels =  [self.target[i][0] for i in indexes]\n",
    "\n",
    "    def identify_classification(self):\n",
    "        x,y = np.unique(self.labels,return_counts= True)\n",
    "        return y[0]/(y[0] +y[1]), y[1]/(y[0] +y[1])"
   ]
  },
  {
   "cell_type": "code",
   "execution_count": 33,
   "metadata": {},
   "outputs": [
    {
     "data": {
      "text/plain": [
       "(0.2, 0.8)"
      ]
     },
     "execution_count": 33,
     "metadata": {},
     "output_type": "execute_result"
    }
   ],
   "source": [
    "test = [17,7,9,19,13]\n",
    "\n",
    "\n",
    "knn = Knn()\n",
    "\n",
    "knn.fit(df,target,5)\n",
    "\n",
    "knn.predict(test)"
   ]
  }
 ],
 "metadata": {
  "kernelspec": {
   "display_name": "Python 3",
   "language": "python",
   "name": "python3"
  },
  "language_info": {
   "codemirror_mode": {
    "name": "ipython",
    "version": 3
   },
   "file_extension": ".py",
   "mimetype": "text/x-python",
   "name": "python",
   "nbconvert_exporter": "python",
   "pygments_lexer": "ipython3",
   "version": "3.7.0"
  }
 },
 "nbformat": 4,
 "nbformat_minor": 2
}
