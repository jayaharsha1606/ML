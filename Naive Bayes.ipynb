{
 "cells": [
  {
   "cell_type": "code",
   "execution_count": 1,
   "metadata": {},
   "outputs": [],
   "source": [
    "import numpy as np\n"
   ]
  },
  {
   "cell_type": "code",
   "execution_count": 63,
   "metadata": {},
   "outputs": [],
   "source": [
    "df = np.random.randint(0,5,size=(1000, 4))\n",
    "target = np.random.randint(0,2,size = (1000,1))"
   ]
  },
  {
   "cell_type": "markdown",
   "metadata": {},
   "source": [
    "## Probability of (yi / xi) = p(xi/yi)* p(yi)/ p(xi)\n",
    "\n",
    "## Since p(xi) is constant across all the values we don't need to consider it\n",
    "\n",
    "## p(yi) is the probability of the class variable\n",
    "\n",
    "## p(xi/yi) considering all the features are independent --> p(x1/yi) * p(x2/yi) * ...... p(xn/yi)\n",
    "\n",
    "## Since we are considering all the features are independent the main reason why Naive Bayes is considered Naive"
   ]
  },
  {
   "cell_type": "code",
   "execution_count": 61,
   "metadata": {},
   "outputs": [],
   "source": [
    "class NaiveBayes:\n",
    "    \n",
    "    def __init__(self):\n",
    "        self.probabilities = {}\n",
    "        self.class_probabs = ()\n",
    "        self.df = []\n",
    "        self.target = []\n",
    "    \n",
    "    def class_probability(self):\n",
    "        v,c = np.unique(self.target,return_counts=True)\n",
    "        return c[0]/(c[0]+c[1]), c[1]/(c[0]+c[1])\n",
    "    \n",
    "    def prob_value(self,column_number,column_value):\n",
    "        return class_probability(self.target[self.df[:,column_number] == column_value])\n",
    "    \n",
    "    def fit(self,df,target):\n",
    "        self.df = df\n",
    "        self.target = target\n",
    "        for i in range(self.df.shape[1]):\n",
    "            self.probabilities[i] = {}\n",
    "            for j in np.unique(self.df[:,i]):\n",
    "                self.probabilities[i][j] = self.prob_value(i,j)\n",
    "        self.class_probabs = self.class_probability()\n",
    "        return self.probabilities,self.class_probabs\n",
    "    \n",
    "    def predict_probab(self,test):\n",
    "        predictions = []\n",
    "        print(self.probabilities)\n",
    "        print(self.class_probabs)\n",
    "        for p in range(2):\n",
    "            final_probab = 1\n",
    "            for i,j in enumerate(test):\n",
    "                final_probab *= self.probabilities[i][j][p]\n",
    "            predictions.append(final_probab*self.class_probabs[p])\n",
    "        print(predictions)\n",
    "        if predictions[0] > predictions[1]:\n",
    "            return 0\n",
    "        else: \n",
    "            return 1"
   ]
  },
  {
   "cell_type": "code",
   "execution_count": 69,
   "metadata": {},
   "outputs": [
    {
     "name": "stdout",
     "output_type": "stream",
     "text": [
      "{0: {0: (0.580952380952381, 0.41904761904761906), 1: (0.5407725321888412, 0.4592274678111588), 2: (0.4416243654822335, 0.5583756345177665), 3: (0.47904191616766467, 0.5209580838323353), 4: (0.49222797927461137, 0.5077720207253886)}, 1: {0: (0.46568627450980393, 0.5343137254901961), 1: (0.5308056872037915, 0.46919431279620855), 2: (0.5526315789473685, 0.4473684210526316), 3: (0.46596858638743455, 0.5340314136125655), 4: (0.5343137254901961, 0.46568627450980393)}, 2: {0: (0.5049019607843137, 0.4950980392156863), 1: (0.5377358490566038, 0.46226415094339623), 2: (0.5073170731707317, 0.4926829268292683), 3: (0.5683060109289617, 0.43169398907103823), 4: (0.4336734693877551, 0.5663265306122449)}, 3: {0: (0.514018691588785, 0.48598130841121495), 1: (0.5048076923076923, 0.4951923076923077), 2: (0.521505376344086, 0.478494623655914), 3: (0.5026455026455027, 0.4973544973544973), 4: (0.5073891625615764, 0.49261083743842365)}}\n",
      "(0.51, 0.49)\n",
      "[0.026060540895454582, 0.03615831927112511]\n"
     ]
    },
    {
     "data": {
      "text/plain": [
       "1"
      ]
     },
     "execution_count": 69,
     "metadata": {},
     "output_type": "execute_result"
    }
   ],
   "source": [
    "test = [2,1,4,3]\n",
    "\n",
    "nb = NaiveBayes()\n",
    "\n",
    "nb.fit(df,target)\n",
    "nb.predict_probab(test)"
   ]
  }
 ],
 "metadata": {
  "kernelspec": {
   "display_name": "Python 3",
   "language": "python",
   "name": "python3"
  },
  "language_info": {
   "codemirror_mode": {
    "name": "ipython",
    "version": 3
   },
   "file_extension": ".py",
   "mimetype": "text/x-python",
   "name": "python",
   "nbconvert_exporter": "python",
   "pygments_lexer": "ipython3",
   "version": "3.7.0"
  }
 },
 "nbformat": 4,
 "nbformat_minor": 2
}
