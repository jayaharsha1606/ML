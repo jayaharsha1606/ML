{
 "cells": [
  {
   "cell_type": "code",
   "execution_count": 73,
   "metadata": {},
   "outputs": [],
   "source": [
    "import numpy as np\n",
    "from sklearn.datasets import make_classification\n",
    "\n",
    "#df,target = make_classification(n_samples = 100, n_features = 10,n_classes = 2)"
   ]
  },
  {
   "cell_type": "code",
   "execution_count": 260,
   "metadata": {
    "scrolled": true
   },
   "outputs": [],
   "source": [
    "import pandas as pd \n",
    "\n",
    "df = pd.read_csv('car.data',header= None)\n",
    "\n",
    "df.columns = ['Price','Maintenance','doors','persons','boot_space','safety','target']\n",
    "\n",
    "replace_dict = {'vhigh':4,'high':3,'med':2,'low':1}\n",
    "boot_dict ={'small':1,'med':2,'big':3}\n",
    "safety_dict = {'low':1,'med':2,'high':3}\n",
    "target_dict = {'unacc':0,'acc':0,'good':1,'vgood':1}\n",
    "\n",
    "df['Price'] = df['Price'].replace(replace_dict)\n",
    "df['Maintenance'] = df['Maintenance'].replace(replace_dict)\n",
    "df = df.replace({'5more':5,'more':5})\n",
    "df['safety'] = df['safety'].replace(safety_dict)\n",
    "df['boot_space'] = df['boot_space'].replace(boot_dict)\n",
    "df['target'] = df['target'].replace(target_dict)\n",
    "df = df.astype('int')\n",
    "\n",
    "target = df['target']\n",
    "df = df.drop(columns = ['target'])\n",
    "columns = df.columns\n",
    "\n",
    "target = np.array(target)\n",
    "df = np.array(df)"
   ]
  },
  {
   "cell_type": "code",
   "execution_count": 7,
   "metadata": {},
   "outputs": [],
   "source": [
    "# df = np.random.randint(0,100,size=(100, 4))\n",
    "# target = np.random.randint(0,2,size = (100,1))"
   ]
  },
  {
   "cell_type": "code",
   "execution_count": 20,
   "metadata": {},
   "outputs": [],
   "source": [
    "def return_value_counts(target):\n",
    "    counts_dict = {}\n",
    "    unique,counts  = np.unique(target,return_counts=True)\n",
    "    for i,j in np.asarray((unique, counts)).T:\n",
    "        counts_dict[i] = j\n",
    "    return counts_dict"
   ]
  },
  {
   "cell_type": "code",
   "execution_count": 26,
   "metadata": {},
   "outputs": [],
   "source": [
    "def calc_prob(counts_dict):\n",
    "    prob_dict = {}\n",
    "    total = 0\n",
    "    for i in counts_dict:\n",
    "        total += counts_dict[i]\n",
    "    for i in counts_dict:\n",
    "        prob_dict[i] = counts_dict[i]/total\n",
    "    return prob_dict"
   ]
  },
  {
   "cell_type": "code",
   "execution_count": 27,
   "metadata": {},
   "outputs": [
    {
     "data": {
      "text/plain": [
       "{0: 0.5, 1: 0.5}"
      ]
     },
     "execution_count": 27,
     "metadata": {},
     "output_type": "execute_result"
    }
   ],
   "source": [
    "calc_prob(counts_dict)"
   ]
  },
  {
   "cell_type": "code",
   "execution_count": 76,
   "metadata": {},
   "outputs": [],
   "source": [
    "counts_dict = return_value_counts(target)"
   ]
  },
  {
   "attachments": {
    "image.png": {
     "image/png": "[encoded data removed]"
    }
   },
   "cell_type": "markdown",
   "metadata": {},
   "source": [
    "![image.png](attachment:image.png)"
   ]
  },
  {
   "cell_type": "code",
   "execution_count": 28,
   "metadata": {},
   "outputs": [],
   "source": [
    "def entropy_calculation(target):\n",
    "    prob_dict = calc_prob(return_value_counts(target))\n",
    "    entropy = 0\n",
    "    for i in prob_dict:\n",
    "        entropy += -(prob_dict[i])*np.log2(prob_dict[i])\n",
    "    return entropy"
   ]
  },
  {
   "cell_type": "code",
   "execution_count": 41,
   "metadata": {},
   "outputs": [],
   "source": [
    "bin_col = np.where(col<30,True,False)"
   ]
  },
  {
   "cell_type": "code",
   "execution_count": 78,
   "metadata": {},
   "outputs": [
    {
     "data": {
      "text/plain": [
       "1"
      ]
     },
     "execution_count": 78,
     "metadata": {},
     "output_type": "execute_result"
    }
   ],
   "source": [
    "target[3]"
   ]
  },
  {
   "cell_type": "code",
   "execution_count": 79,
   "metadata": {},
   "outputs": [],
   "source": [
    "def split_data(bin_col,col,target):\n",
    "    first_split = []\n",
    "    second_split = []\n",
    "    for i in range(len(col)):\n",
    "        if bin_col[i]:\n",
    "            first_split.append([col[i],target[i]])\n",
    "        else:\n",
    "            second_split.append([col[i],target[i]])\n",
    "    return first_split,second_split"
   ]
  },
  {
   "cell_type": "code",
   "execution_count": 54,
   "metadata": {},
   "outputs": [
    {
     "data": {
      "text/plain": [
       "0.9990102708804813"
      ]
     },
     "execution_count": 54,
     "metadata": {},
     "output_type": "execute_result"
    }
   ],
   "source": [
    "entropy_calculation([i[1] for i in first_split])"
   ]
  },
  {
   "cell_type": "code",
   "execution_count": 55,
   "metadata": {},
   "outputs": [
    {
     "data": {
      "text/plain": [
       "0.9998646331239298"
      ]
     },
     "execution_count": 55,
     "metadata": {},
     "output_type": "execute_result"
    }
   ],
   "source": [
    "entropy_calculation([i[1] for i in second_split])"
   ]
  },
  {
   "cell_type": "code",
   "execution_count": 191,
   "metadata": {
    "scrolled": true
   },
   "outputs": [
    {
     "name": "stdout",
     "output_type": "stream",
     "text": [
      "Information gain at split  -2.242302689730259  === 0.0\n",
      "Information gain at split  -1.7306948413410965  === 7.360063131400807e-05\n",
      "Information gain at split  -1.71700665441949  === 0.00030045714348292396\n",
      "Information gain at split  -1.6360018246814105  === -0.9182191670018163\n",
      "Information gain at split  -1.607081326357743  === -1.0\n",
      "Information gain at split  -1.6029761111040641  === -0.9708706652754642\n",
      "Information gain at split  -1.536119422617491  === -1.0\n",
      "Information gain at split  -1.5137430896855986  === -0.9851447320081803\n",
      "Information gain at split  -1.4752448025386904  === -0.954093074594105\n",
      "Information gain at split  -1.4643363206257256  === -0.9909889493395783\n",
      "Information gain at split  -1.435862837886107  === -0.9705943441325247\n",
      "Information gain at split  -1.3561956405486237  === -0.9448405397152086\n",
      "Information gain at split  -1.318069614248751  === -0.9168049329721217\n",
      "Information gain at split  -1.3022655117553816  === -0.9603787087147846\n",
      "Information gain at split  -1.2432174126051754  === -0.9387248816962548\n",
      "Information gain at split  -1.1281912515849661  === -0.9157983804236047\n",
      "Information gain at split  -1.0775488679734588  === -0.9527976755187781\n",
      "Information gain at split  -1.071735244421418  === -0.9764752217945576\n",
      "Information gain at split  -1.0698280851459556  === -0.9906468991855446\n",
      "Information gain at split  -1.0589572993054674  === -0.9978909363268513\n",
      "Information gain at split  -1.027890245823655  === -0.9923235648130566\n",
      "Information gain at split  -1.0179517658265185  === -0.9982480874655719\n",
      "Information gain at split  -0.9279650474900066  === -1.0\n",
      "Information gain at split  -0.7369367879688682  === -0.9985142964575779\n",
      "Information gain at split  -0.666051570265988  === -0.994485222367729\n",
      "Information gain at split  -0.6563889179538335  === -0.9884330572172573\n",
      "Information gain at split  -0.6480689842982157  === -0.9952004722709091\n",
      "Information gain at split  -0.6423192057828704  === -0.9988749040044111\n",
      "Information gain at split  -0.6224994672755269  === -0.995759852649261\n",
      "Information gain at split  -0.6165101151271596  === -0.9909783901849856\n",
      "Information gain at split  -0.5870121051670233  === -0.9962026967203919\n",
      "Information gain at split  -0.5382618119267943  === -0.9990977309247624\n",
      "Information gain at split  -0.5263819569583621  === -1.0\n",
      "Information gain at split  -0.519935305089808  === -0.9991768059499333\n",
      "Information gain at split  -0.4148912939396533  === -0.996840050538\n",
      "Information gain at split  -0.4015432474614765  === -0.9992403248621486\n",
      "Information gain at split  -0.3902976013179505  === -1.0\n",
      "Information gain at split  -0.34602109517667134  === -0.9992912671463268\n",
      "Information gain at split  -0.2505919062829819  === -0.99933182209836\n",
      "Information gain at split  -0.20689920293925368  === -1.0\n",
      "Information gain at split  -0.15371025080468217  === -0.9993636052014492\n",
      "Information gain at split  -0.11961709617198374  === -0.9975057765857218\n",
      "Information gain at split  -0.11743928517103591  === -0.9993878035796975\n",
      "Information gain at split  -0.09160756921498109  === -0.9975888170982141\n",
      "Information gain at split  -0.08274258017412932  === -0.9994052745474873\n",
      "Information gain at split  -0.06532764463382547  === -1.0\n",
      "Information gain at split  -0.022662571618665493  === -0.9994166120759767\n",
      "Information gain at split  0.004030802010427079  === -0.9976799525622266\n",
      "Information gain at split  0.01466628234271871  === -0.9994221903959244\n",
      "Information gain at split  0.04687018071529566  === -0.9976910719904035\n",
      "Information gain at split  0.04736836569734302  === -0.9994221903959244\n",
      "Information gain at split  0.05716042439358288  === -0.9976799525622266\n",
      "Information gain at split  0.06838613134257523  === -0.9947466329386656\n",
      "Information gain at split  0.08634101367290331  === -0.9976462350390531\n",
      "Information gain at split  0.08880633147046242  === -0.9946444085905146\n",
      "Information gain at split  0.09402757624856742  === -0.9903467310359186\n",
      "Information gain at split  0.14451635962278378  === -0.9846670150221271\n",
      "Information gain at split  0.14548921964454023  === -0.9774947747537479\n",
      "Information gain at split  0.1608971555468311  === -0.9686919064703594\n",
      "Information gain at split  0.1849072401888243  === -0.9832589321758332\n",
      "Information gain at split  0.19611746331638216  === -0.9751746066038043\n",
      "Information gain at split  0.22084730148015516  === -0.9651009242739743\n",
      "Information gain at split  0.2447041845755276  === -0.9527781730967264\n",
      "Information gain at split  0.24811177266889495  === -0.9625684242427717\n",
      "Information gain at split  0.27178564659370585  === -0.9714480290051282\n",
      "Information gain at split  0.2846320471721707  === -0.9594064709490444\n",
      "Information gain at split  0.2926674690517816  === -0.9444267944824838\n",
      "Information gain at split  0.2935775492215021  === -0.9554635507835629\n",
      "Information gain at split  0.3166135414010263  === -0.9386359440014316\n",
      "Information gain at split  0.3393207301063321  === -0.9505303703232655\n",
      "Information gain at split  0.3926731020233708  === -0.9313620185088534\n",
      "Information gain at split  0.40600141740171664  === -0.9443130767278194\n",
      "Information gain at split  0.42040347173139697  === -0.9363902958600003\n",
      "Information gain at split  0.45006461330336195  === -0.9499333876525604\n",
      "Information gain at split  0.49112670646692597  === -0.9625923852179181\n",
      "Information gain at split  0.54709398891532  === -0.9413877566855655\n",
      "Information gain at split  0.5487011403175068  === -0.9558203996988035\n",
      "Information gain at split  0.5852023417468777  === -0.9300066630070865\n",
      "Information gain at split  0.6384953444934419  === -0.8943497399987859\n",
      "Information gain at split  0.6442763639946105  === -0.9144303175640691\n",
      "Information gain at split  0.7326720280135622  === -0.8688441560322149\n",
      "Information gain at split  0.75771070118707  === -0.8047253628393354\n",
      "Information gain at split  0.8127918356270357  === -0.713825836440297\n",
      "Information gain at split  0.8239232827515569  === -0.7433441681885937\n",
      "Information gain at split  0.8691409638743007  === -0.7746749443552563\n",
      "Information gain at split  0.9354404799788911  === -0.807922149707903\n",
      "Information gain at split  1.028928442279642  === -0.8430730441556107\n",
      "Information gain at split  1.0751961888816828  === -0.8798655457710434\n",
      "Information gain at split  1.1552714658321135  === -0.9175117132763722\n",
      "Information gain at split  1.2321204438816695  === -0.8099140886177048\n",
      "Information gain at split  1.5720894424067688  === -0.8623698165622875\n",
      "Information gain at split  1.5739186845691804  === -0.9179692600593814\n",
      "Information gain at split  1.783214817204275  === -0.9708706652754642\n",
      "Information gain at split  1.9147739846725327  === -1.0\n",
      "Information gain at split  1.9499375460085977  === -0.9182191670018163\n",
      "Information gain at split  2.1698929197773125  === -1.0\n",
      "Information gain at split  2.6687112253968395  === 7.360063131400807e-05\n"
     ]
    }
   ],
   "source": [
    "col = df[:,3]\n",
    "split_information_gain_dict = {}\n",
    "target_entropy = entropy_calculation(target)\n",
    "for i in np.unique(col[3:len(np.unique(col)-3)]):\n",
    "    bin_col = np.where(col<i,True,False)\n",
    "    left_split,right_split = split_data(bin_col,col,target)\n",
    "    col_entropy = 0\n",
    "    for sub in [left_split,right_split]:\n",
    "        col_entropy += entropy_calculation([p[1] for p in sub])\n",
    "    split_information_gain_dict[i] = target_entropy-col_entropy\n",
    "    print('Information gain at split ',i,' ===',target_entropy - col_entropy)"
   ]
  },
  {
   "cell_type": "code",
   "execution_count": 248,
   "metadata": {},
   "outputs": [],
   "source": [
    "def identify_best_split(col,target):\n",
    "    split_information_gain_dict = {}\n",
    "    target_entropy = entropy_calculation(target)\n",
    "    for i in np.unique(col):\n",
    "        if (i == max(col)) or (i == min(col)):\n",
    "            pass\n",
    "        else:\n",
    "            bin_col = np.where(col<i,True,False)\n",
    "            left_split,right_split = split_data(bin_col,col,target)\n",
    "            col_entropy = 0\n",
    "            for sub in [left_split,right_split]:\n",
    "                col_entropy += entropy_calculation([p[1] for p in sub])\n",
    "            split_information_gain_dict[i] = target_entropy-col_entropy\n",
    "    try : \n",
    "        return max(split_information_gain_dict,key = split_information_gain_dict.get),split_information_gain_dict[max(split_information_gain_dict,key = split_information_gain_dict.get)]\n",
    "    except: return -200,-150"
   ]
  },
  {
   "cell_type": "code",
   "execution_count": 183,
   "metadata": {},
   "outputs": [
    {
     "name": "stdout",
     "output_type": "stream",
     "text": [
      "2\n"
     ]
    }
   ],
   "source": [
    "split_info = [identify_best_split(df[:,i],target) for i in range(df.shape[1])]\n",
    "print(np.argmax(np.array([split[1] for split in split_info])))"
   ]
  },
  {
   "cell_type": "code",
   "execution_count": 184,
   "metadata": {},
   "outputs": [
    {
     "data": {
      "text/plain": [
       "0.3428085301991637"
      ]
     },
     "execution_count": 184,
     "metadata": {},
     "output_type": "execute_result"
    }
   ],
   "source": [
    "split_info[2][0]"
   ]
  },
  {
   "cell_type": "code",
   "execution_count": 276,
   "metadata": {},
   "outputs": [],
   "source": [
    "def best_col_to_split(df, target,min_information_gain):\n",
    "    split_info = [identify_best_split(df[:,i],target) for i in range(df.shape[1])]\n",
    "    best_col = np.argmax(np.array([split[1] for split in split_info]))\n",
    "    if split_info[best_col][0] > min_information_gain:\n",
    "        return best_col,split_info[best_col][0]\n",
    "    else: \n",
    "        return -500,-500"
   ]
  },
  {
   "cell_type": "code",
   "execution_count": 124,
   "metadata": {},
   "outputs": [],
   "source": [
    "col,split = best_col_to_split(df,target)"
   ]
  },
  {
   "cell_type": "code",
   "execution_count": 128,
   "metadata": {},
   "outputs": [],
   "source": [
    "bin_col = np.where(df[:,col]<split,True,False)"
   ]
  },
  {
   "cell_type": "code",
   "execution_count": 132,
   "metadata": {},
   "outputs": [
    {
     "data": {
      "text/plain": [
       "48"
      ]
     },
     "execution_count": 132,
     "metadata": {},
     "output_type": "execute_result"
    }
   ],
   "source": [
    "len(target[~bin_col])"
   ]
  },
  {
   "cell_type": "code",
   "execution_count": 161,
   "metadata": {},
   "outputs": [],
   "source": [
    "def split_total_data(col,split,df,target):\n",
    "    bin_col = np.where(df[:,col]<split,True,False)\n",
    "    left_data = df[bin_col]\n",
    "    left_target = target[bin_col]\n",
    "    right_data = df[~bin_col]\n",
    "    right_target = target[~bin_col]\n",
    "    return left_data,right_data,left_target,right_target\n",
    "    "
   ]
  },
  {
   "cell_type": "code",
   "execution_count": 136,
   "metadata": {},
   "outputs": [],
   "source": [
    "col,split = best_col_to_split(df,target)\n",
    "left_data,left_target,right_data,right_target = split_total_data(col,split,df,target)"
   ]
  },
  {
   "cell_type": "code",
   "execution_count": 165,
   "metadata": {},
   "outputs": [
    {
     "data": {
      "text/plain": [
       "[array([1, 0, 1, 1, 1, 1, 1, 0, 0, 0, 1, 0, 1, 0, 0, 0, 0, 1, 1, 1, 0, 0,\n",
       "        1, 1, 0, 1, 0, 1, 1, 0, 1, 1, 1, 0, 0, 1, 0, 1, 0, 0, 0, 1, 0, 1,\n",
       "        0, 0, 1, 0, 0, 1, 0, 1, 0, 0, 1, 0, 0, 0, 1, 1, 0, 1, 1, 0, 1, 1,\n",
       "        0, 0, 1, 1, 0, 0, 0, 1, 1, 0, 0, 0, 0, 0, 0, 0, 1, 1, 1, 1, 1, 1,\n",
       "        0, 1, 0, 1, 0, 1, 1, 0, 1, 1, 0, 1]),\n",
       " array([0, 1, 0, 0, 0, 0, 0, 0, 0, 0, 0, 0, 0, 0, 0, 0, 0, 0, 0, 0, 0, 0,\n",
       "        0, 0, 0, 0, 0, 0, 0, 0, 0, 0, 0, 0, 0, 0, 0, 0, 1, 0, 0, 0, 0, 0,\n",
       "        0, 1, 0, 0, 1, 0, 0, 0]),\n",
       " array([1, 1, 1, 1, 1, 1, 0, 1, 1, 1, 1, 1, 1, 1, 1, 1, 1, 1, 1, 1, 1, 1,\n",
       "        1, 1, 1, 1, 1, 1, 1, 1, 1, 1, 1, 1, 1, 1, 0, 1, 1, 1, 1, 1, 1, 1,\n",
       "        1, 1, 1, 1]),\n",
       " array([1]),\n",
       " array([0, 1, 0, 0, 0, 0, 0, 0, 0, 0, 0, 0, 0, 0, 0, 0, 0, 0, 0, 0, 0, 0,\n",
       "        0, 0, 0, 0, 0, 0, 0, 0, 0, 0, 0, 0, 0, 0, 0, 0, 1, 0, 0, 0, 0, 0,\n",
       "        0, 1, 0, 0, 0, 0, 0]),\n",
       " array([], dtype=int32),\n",
       " array([1, 1, 1, 1, 1, 1, 0, 1, 1, 1, 1, 1, 1, 1, 1, 1, 1, 1, 1, 1, 1, 1,\n",
       "        1, 1, 1, 1, 1, 1, 1, 1, 1, 1, 1, 1, 1, 1, 0, 1, 1, 1, 1, 1, 1, 1,\n",
       "        1, 1, 1, 1]),\n",
       " array([], dtype=int32),\n",
       " array([1]),\n",
       " array([1]),\n",
       " array([0, 0, 0, 0, 0, 0, 0, 0, 0, 0, 0, 0, 0, 0, 0, 0, 0, 0, 0, 0, 0, 0,\n",
       "        0, 0, 0, 0, 0, 0, 0, 0, 0, 0, 0, 0, 0, 0, 0, 1, 0, 0, 0, 0, 0, 0,\n",
       "        1, 0, 0, 0, 0, 0])]"
      ]
     },
     "execution_count": 165,
     "metadata": {},
     "output_type": "execute_result"
    }
   ],
   "source": [
    "splitted_target"
   ]
  },
  {
   "cell_type": "code",
   "execution_count": 326,
   "metadata": {},
   "outputs": [],
   "source": [
    "def build_decision_tree(df,target,max_depth,min_samples_split,min_information_gain):\n",
    "    splitted_data = []\n",
    "    splitted_target = []\n",
    "    leaf_data = []\n",
    "    leaf_target = []\n",
    "    tracker = []\n",
    "    tree_list = []\n",
    "    for depth in range(max_depth+1):\n",
    "        if depth == 0:\n",
    "            splitted_data.append(df)\n",
    "            splitted_target.append(target)\n",
    "        #print(count,len(splitted_data))\n",
    "        elif depth == max_depth:\n",
    "            leaf_data.extend(splitted_data)\n",
    "            leaf_target.extend(splitted_target)\n",
    "            break\n",
    "        temp_data = []\n",
    "        temp_target = []\n",
    "        count = 0\n",
    "        print('Depth Value is at ', depth)\n",
    "        print('Length of all sub dataframes at this depth is:::',[len(i) for i in splitted_target])\n",
    "        for i in range(len(splitted_data)):\n",
    "            if len(splitted_data[i]) > min_samples_split:\n",
    "                col,split = best_col_to_split(splitted_data[i],splitted_target[i],min_information_gain)\n",
    "                if (col == -500) & (split == -500):\n",
    "                    print('Split isnt possible because of no information gain')\n",
    "                    count += 1\n",
    "                    leaf_data.append(splitted_data[i])\n",
    "                    leaf_target.append(splitted_target[i]) \n",
    "                    #tracker[depth].append([leaf_data,leaf_target])\n",
    "                else:\n",
    "                    print('The Current Split is at column:: ',col,' and splitting at ', split)\n",
    "                    left_data,right_data,left_target,right_target = split_total_data(col,split,splitted_data[i],splitted_target[i])\n",
    "                    print('Instances in left node is::',len(left_target))\n",
    "                    print('Instances in right node is::',len(right_target))\n",
    "                    temp_data.append(left_data)\n",
    "                    temp_data.append(right_data)\n",
    "                    temp_target.append(left_target)\n",
    "                    temp_target.append(right_target)\n",
    "                    tree_list.append([depth,count,col,split])\n",
    "                    tracker.append([depth,count,col,split,'Yes',left_data,left_target])\n",
    "                    tracker.append([depth,count,col,split,'No',right_data,right_target])\n",
    "            else: \n",
    "                leaf_data.append(splitted_data[i])\n",
    "                leaf_target.append(splitted_target[i])\n",
    "                #tracker[depth].append([col,split])\n",
    "            count += 1\n",
    "        splitted_data = temp_data\n",
    "        splitted_target = temp_target\n",
    "        print(len(splitted_data))\n",
    "    return tracker,tree_list"
   ]
  },
  {
   "cell_type": "code",
   "execution_count": 316,
   "metadata": {
    "scrolled": true
   },
   "outputs": [
    {
     "name": "stdout",
     "output_type": "stream",
     "text": [
      "Depth Value is at  0\n",
      "Length of all sub dataframes at this depth is::: [1728]\n",
      "The Current Split is at column::  3  and splitting at  4\n",
      "Instances in left node is:: 576\n",
      "Instances in right node is:: 1152\n",
      "2\n",
      "Depth Value is at  1\n",
      "Length of all sub dataframes at this depth is::: [576, 1152]\n",
      "The Current Split is at column::  0  and splitting at  2\n",
      "Instances in left node is:: 144\n",
      "Instances in right node is:: 432\n",
      "The Current Split is at column::  5  and splitting at  2\n",
      "Instances in left node is:: 384\n",
      "Instances in right node is:: 768\n",
      "4\n",
      "Depth Value is at  2\n",
      "Length of all sub dataframes at this depth is::: [144, 432, 384, 768]\n",
      "The Current Split is at column::  1  and splitting at  2\n",
      "Instances in left node is:: 36\n",
      "Instances in right node is:: 108\n",
      "The Current Split is at column::  0  and splitting at  3\n",
      "Instances in left node is:: 144\n",
      "Instances in right node is:: 288\n",
      "The Current Split is at column::  0  and splitting at  2\n",
      "Instances in left node is:: 96\n",
      "Instances in right node is:: 288\n",
      "The Current Split is at column::  0  and splitting at  3\n",
      "Instances in left node is:: 384\n",
      "Instances in right node is:: 384\n",
      "8\n",
      "Depth Value is at  3\n",
      "Length of all sub dataframes at this depth is::: [36, 108, 144, 288, 96, 288, 384, 384]\n",
      "The Current Split is at column::  2  and splitting at  3\n",
      "Instances in left node is:: 9\n",
      "Instances in right node is:: 27\n",
      "The Current Split is at column::  1  and splitting at  3\n",
      "Instances in left node is:: 36\n",
      "Instances in right node is:: 72\n",
      "The Current Split is at column::  1  and splitting at  2\n",
      "Instances in left node is:: 36\n",
      "Instances in right node is:: 108\n",
      "The Current Split is at column::  1  and splitting at  2\n",
      "Instances in left node is:: 72\n",
      "Instances in right node is:: 216\n",
      "The Current Split is at column::  1  and splitting at  2\n",
      "Instances in left node is:: 24\n",
      "Instances in right node is:: 72\n",
      "The Current Split is at column::  0  and splitting at  3\n",
      "Instances in left node is:: 96\n",
      "Instances in right node is:: 192\n",
      "The Current Split is at column::  1  and splitting at  3\n",
      "Instances in left node is:: 192\n",
      "Instances in right node is:: 192\n",
      "The Current Split is at column::  1  and splitting at  2\n",
      "Instances in left node is:: 96\n",
      "Instances in right node is:: 288\n",
      "16\n",
      "Depth Value is at  4\n",
      "Length of all sub dataframes at this depth is::: [9, 27, 36, 72, 36, 108, 72, 216, 24, 72, 96, 192, 192, 192, 96, 288]\n",
      "The Current Split is at column::  2  and splitting at  3\n",
      "Instances in left node is:: 9\n",
      "Instances in right node is:: 27\n",
      "The Current Split is at column::  2  and splitting at  3\n",
      "Instances in left node is:: 18\n",
      "Instances in right node is:: 54\n",
      "The Current Split is at column::  2  and splitting at  3\n",
      "Instances in left node is:: 9\n",
      "Instances in right node is:: 27\n",
      "The Current Split is at column::  1  and splitting at  3\n",
      "Instances in left node is:: 36\n",
      "Instances in right node is:: 72\n",
      "The Current Split is at column::  2  and splitting at  3\n",
      "Instances in left node is:: 18\n",
      "Instances in right node is:: 54\n",
      "The Current Split is at column::  1  and splitting at  3\n",
      "Instances in left node is:: 72\n",
      "Instances in right node is:: 144\n",
      "The Current Split is at column::  1  and splitting at  3\n",
      "Instances in left node is:: 24\n",
      "Instances in right node is:: 48\n",
      "The Current Split is at column::  1  and splitting at  2\n",
      "Instances in left node is:: 24\n",
      "Instances in right node is:: 72\n",
      "The Current Split is at column::  1  and splitting at  2\n",
      "Instances in left node is:: 48\n",
      "Instances in right node is:: 144\n",
      "The Current Split is at column::  4  and splitting at  2\n",
      "Instances in left node is:: 64\n",
      "Instances in right node is:: 128\n",
      "The Current Split is at column::  4  and splitting at  2\n",
      "Instances in left node is:: 64\n",
      "Instances in right node is:: 128\n",
      "The Current Split is at column::  2  and splitting at  3\n",
      "Instances in left node is:: 24\n",
      "Instances in right node is:: 72\n",
      "The Current Split is at column::  1  and splitting at  3\n",
      "Instances in left node is:: 96\n",
      "Instances in right node is:: 192\n",
      "26\n"
     ]
    }
   ],
   "source": [
    "tracker,tree_map = build_decision_tree(df,target,5,30,0.005)"
   ]
  },
  {
   "cell_type": "code",
   "execution_count": 338,
   "metadata": {},
   "outputs": [],
   "source": [
    "def next_conditions(depth,count,satisfied):\n",
    "    if satisfied == 'No':\n",
    "        return depth+1,2*count+1\n",
    "    else:\n",
    "        return depth +1,(2*count)"
   ]
  },
  {
   "cell_type": "code",
   "execution_count": 339,
   "metadata": {},
   "outputs": [
    {
     "data": {
      "text/plain": [
       "(1, 1)"
      ]
     },
     "execution_count": 339,
     "metadata": {},
     "output_type": "execute_result"
    }
   ],
   "source": [
    "next_conditions(0,0,'No')"
   ]
  },
  {
   "cell_type": "code",
   "execution_count": 325,
   "metadata": {},
   "outputs": [
    {
     "data": {
      "text/plain": [
       "array([0, 1, 1, 2, 2, 2, 2, 3, 3, 3, 3, 3, 3, 3, 3, 4, 4, 4, 4, 4, 4, 4,\n",
       "       4, 4, 4, 4, 4, 4], dtype=int64)"
      ]
     },
     "execution_count": 325,
     "metadata": {},
     "output_type": "execute_result"
    }
   ],
   "source": [
    "tree_map = np.array(tree_map)\n",
    "tree_map[:,0]"
   ]
  },
  {
   "cell_type": "code",
   "execution_count": 331,
   "metadata": {},
   "outputs": [
    {
     "data": {
      "text/plain": [
       "array([[ 0,  0,  3,  4],\n",
       "       [ 1,  0,  0,  2],\n",
       "       [ 1,  1,  5,  2],\n",
       "       [ 2,  0,  1,  2],\n",
       "       [ 2,  1,  0,  3],\n",
       "       [ 2,  2,  0,  2],\n",
       "       [ 2,  3,  0,  3],\n",
       "       [ 3,  0,  2,  3],\n",
       "       [ 3,  1,  1,  3],\n",
       "       [ 3,  2,  1,  2],\n",
       "       [ 3,  3,  1,  2],\n",
       "       [ 3,  4,  1,  2],\n",
       "       [ 3,  5,  0,  3],\n",
       "       [ 3,  6,  1,  3],\n",
       "       [ 3,  7,  1,  2],\n",
       "       [ 4,  2,  2,  3],\n",
       "       [ 4,  3,  2,  3],\n",
       "       [ 4,  4,  2,  3],\n",
       "       [ 4,  5,  1,  3],\n",
       "       [ 4,  6,  2,  3],\n",
       "       [ 4,  7,  1,  3],\n",
       "       [ 4,  9,  1,  3],\n",
       "       [ 4, 10,  1,  2],\n",
       "       [ 4, 11,  1,  2],\n",
       "       [ 4, 12,  4,  2],\n",
       "       [ 4, 13,  4,  2],\n",
       "       [ 4, 14,  2,  3],\n",
       "       [ 4, 15,  1,  3]], dtype=int64)"
      ]
     },
     "execution_count": 331,
     "metadata": {},
     "output_type": "execute_result"
    }
   ],
   "source": [
    "tree_map"
   ]
  },
  {
   "cell_type": "code",
   "execution_count": 293,
   "metadata": {
    "scrolled": true
   },
   "outputs": [
    {
     "name": "stdout",
     "output_type": "stream",
     "text": [
      "3 4 Yes\n",
      "3 4 No\n",
      "0 2 Yes\n",
      "0 2 No\n",
      "5 2 Yes\n",
      "5 2 No\n",
      "1 2 Yes\n",
      "1 2 No\n",
      "0 3 Yes\n",
      "0 3 No\n",
      "0 2 Yes\n",
      "0 2 No\n",
      "0 3 Yes\n",
      "0 3 No\n",
      "2 3 Yes\n",
      "2 3 No\n",
      "1 3 Yes\n",
      "1 3 No\n",
      "1 2 Yes\n",
      "1 2 No\n",
      "1 2 Yes\n",
      "1 2 No\n",
      "1 2 Yes\n",
      "1 2 No\n",
      "0 3 Yes\n",
      "0 3 No\n",
      "1 3 Yes\n",
      "1 3 No\n",
      "1 2 Yes\n",
      "1 2 No\n",
      "2 3 Yes\n",
      "2 3 No\n",
      "2 3 Yes\n",
      "2 3 No\n",
      "2 3 Yes\n",
      "2 3 No\n",
      "1 3 Yes\n",
      "1 3 No\n",
      "2 3 Yes\n",
      "2 3 No\n",
      "1 3 Yes\n",
      "1 3 No\n",
      "1 3 Yes\n",
      "1 3 No\n",
      "1 2 Yes\n",
      "1 2 No\n",
      "1 2 Yes\n",
      "1 2 No\n",
      "4 2 Yes\n",
      "4 2 No\n",
      "4 2 Yes\n",
      "4 2 No\n",
      "2 3 Yes\n",
      "2 3 No\n",
      "1 3 Yes\n",
      "1 3 No\n"
     ]
    }
   ],
   "source": [
    "for i in tracker: print(i[0],i[1],i[2])"
   ]
  },
  {
   "cell_type": "code",
   "execution_count": 249,
   "metadata": {},
   "outputs": [
    {
     "data": {
      "text/plain": [
       "(0, 2)"
      ]
     },
     "execution_count": 249,
     "metadata": {},
     "output_type": "execute_result"
    }
   ],
   "source": [
    "best_col_to_split(splitted_data[0],splitted_target[0])"
   ]
  },
  {
   "cell_type": "code",
   "execution_count": 243,
   "metadata": {},
   "outputs": [
    {
     "data": {
      "text/plain": [
       "(3, -0.2638953344459123)"
      ]
     },
     "execution_count": 243,
     "metadata": {},
     "output_type": "execute_result"
    }
   ],
   "source": [
    "identify_best_split(splitted_data[0][:,0],splitted_target[0])"
   ]
  },
  {
   "cell_type": "code",
   "execution_count": 241,
   "metadata": {},
   "outputs": [
    {
     "data": {
      "text/plain": [
       "array([[4, 4, 2, 4, 1, 1],\n",
       "       [4, 4, 2, 4, 1, 2],\n",
       "       [4, 4, 2, 4, 1, 3],\n",
       "       ...,\n",
       "       [1, 1, 5, 5, 3, 1],\n",
       "       [1, 1, 5, 5, 3, 2],\n",
       "       [1, 1, 5, 5, 3, 3]])"
      ]
     },
     "execution_count": 241,
     "metadata": {},
     "output_type": "execute_result"
    }
   ],
   "source": [
    "splitted_data[1]"
   ]
  },
  {
   "cell_type": "code",
   "execution_count": 342,
   "metadata": {},
   "outputs": [
    {
     "data": {
      "text/plain": [
       "ModeResult(mode=array([1]), count=array([1]))"
      ]
     },
     "execution_count": 342,
     "metadata": {},
     "output_type": "execute_result"
    }
   ],
   "source": [
    "from scipy import stats\n",
    "\n",
    "stats.mode([1,3,5])"
   ]
  }
 ],
 "metadata": {
  "kernelspec": {
   "display_name": "Python 3",
   "language": "python",
   "name": "python3"
  },
  "language_info": {
   "codemirror_mode": {
    "name": "ipython",
    "version": 3
   },
   "file_extension": ".py",
   "mimetype": "text/x-python",
   "name": "python",
   "nbconvert_exporter": "python",
   "pygments_lexer": "ipython3",
   "version": "3.7.0"
  }
 },
 "nbformat": 4,
 "nbformat_minor": 2
}
