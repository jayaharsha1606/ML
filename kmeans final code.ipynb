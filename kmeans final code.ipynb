{
 "cells": [
  {
   "cell_type": "code",
   "execution_count": 12,
   "metadata": {},
   "outputs": [],
   "source": [
    "import numpy as np"
   ]
  },
  {
   "cell_type": "code",
   "execution_count": 18,
   "metadata": {},
   "outputs": [],
   "source": [
    "df = np.random.randint(0,100,size=(100, 4))"
   ]
  },
  {
   "cell_type": "code",
   "execution_count": 49,
   "metadata": {},
   "outputs": [],
   "source": [
    "def random_points(k):\n",
    "    random_k = np.random.randint(0,100,size=(k,4))\n",
    "    return random_k"
   ]
  },
  {
   "cell_type": "code",
   "execution_count": 36,
   "metadata": {},
   "outputs": [],
   "source": [
    "def euclidean_dist(array_1,array_2):\n",
    "    dist = np.linalg.norm(array_1-array_2)\n",
    "    return dist"
   ]
  },
  {
   "cell_type": "code",
   "execution_count": 127,
   "metadata": {},
   "outputs": [],
   "source": [
    "def distance_points(df,random_k):\n",
    "    distances = []\n",
    "    for i in df:\n",
    "        distances.append([euclidean_dist(i,j) for j in random_k])\n",
    "    return distances"
   ]
  },
  {
   "cell_type": "code",
   "execution_count": 116,
   "metadata": {},
   "outputs": [],
   "source": [
    "def cluster_points(distances):\n",
    "    cluster_list = []\n",
    "    for i in distances:\n",
    "        cluster_list.append(i.index(min(i)))\n",
    "    return cluster_list"
   ]
  },
  {
   "cell_type": "code",
   "execution_count": 115,
   "metadata": {},
   "outputs": [],
   "source": [
    "def cluster_split(cluster_list,k):\n",
    "    split_dict = {}\n",
    "    for i in range(k):\n",
    "        split_dict[i] = []\n",
    "    for num in range(k):\n",
    "        for i,j in enumerate(df):\n",
    "            if cluster_list[i] == num:\n",
    "                split_dict[num].append(list(j))\n",
    "            else: pass\n",
    "    return split_dict"
   ]
  },
  {
   "cell_type": "code",
   "execution_count": 117,
   "metadata": {},
   "outputs": [],
   "source": [
    "def centroid(split_dict):\n",
    "    new_clusters = []\n",
    "    for i in split_dict:\n",
    "        small_list = []\n",
    "        for j in range(len(split_dict[0][0])):\n",
    "            small_list.append(np.mean([ele[j] for ele in split_dict[i]]))\n",
    "        new_clusters.append(small_list)\n",
    "    return new_clusters"
   ]
  },
  {
   "cell_type": "code",
   "execution_count": 118,
   "metadata": {},
   "outputs": [],
   "source": [
    "distances = distance_points(df,3)\n",
    "cluster_list = cluster_points(distances)\n",
    "split_dict = cluster_split(cluster_list,3)\n",
    "new_centroids = centroid(split_dict)"
   ]
  },
  {
   "cell_type": "code",
   "execution_count": 125,
   "metadata": {},
   "outputs": [],
   "source": [
    "def euclidean_distance_centroids(new,old,k):\n",
    "    total_distance = 0\n",
    "    for i in range(k):\n",
    "        total_distance +=euclidean_dist(np.array(new[i]),np.array(old[i]))\n",
    "    return total_distance"
   ]
  },
  {
   "cell_type": "code",
   "execution_count": 132,
   "metadata": {},
   "outputs": [],
   "source": [
    "def kmeans(df,k):\n",
    "    conditions_not_satisfied = True\n",
    "    temp = []\n",
    "    count = 0\n",
    "    random_k = random_points(k)\n",
    "    while conditions_not_satisfied:\n",
    "        distances = distance_points(df,random_k)\n",
    "        cluster_list = cluster_points(distances)\n",
    "        split_dict = cluster_split(cluster_list,k)\n",
    "        new_centroids = centroid(split_dict)\n",
    "        print('Current Distortion in the loop:::', euclidean_distance_centroids(random_k,new_centroids,k))\n",
    "        if euclidean_distance_centroids(random_k,new_centroids,k) <15:\n",
    "            conditions_not_satisfied = False\n",
    "        else: random_k = new_centroids\n",
    "    return split_dict"
   ]
  },
  {
   "cell_type": "code",
   "execution_count": 133,
   "metadata": {
    "scrolled": false
   },
   "outputs": [
    {
     "name": "stdout",
     "output_type": "stream",
     "text": [
      "Current Distortion in the loop::: 105.44420398429253\n",
      "Current Distortion in the loop::: 26.09891606538623\n",
      "Current Distortion in the loop::: 18.9754404548615\n",
      "Current Distortion in the loop::: 30.071450402848726\n",
      "Current Distortion in the loop::: 16.152903427634975\n",
      "Current Distortion in the loop::: 13.921145359638732\n"
     ]
    },
    {
     "data": {
      "text/plain": [
       "{0: [[36, 96, 47, 8],\n",
       "  [7, 17, 51, 59],\n",
       "  [20, 71, 32, 83],\n",
       "  [7, 21, 19, 71],\n",
       "  [57, 87, 32, 15],\n",
       "  [6, 8, 8, 96],\n",
       "  [67, 98, 20, 0],\n",
       "  [22, 77, 48, 14],\n",
       "  [43, 90, 23, 36],\n",
       "  [52, 89, 3, 20],\n",
       "  [71, 88, 15, 73],\n",
       "  [10, 42, 34, 40],\n",
       "  [18, 19, 1, 1],\n",
       "  [59, 70, 10, 10],\n",
       "  [46, 67, 37, 41],\n",
       "  [30, 61, 28, 36],\n",
       "  [16, 71, 10, 60],\n",
       "  [16, 92, 14, 7],\n",
       "  [3, 76, 59, 68],\n",
       "  [61, 64, 21, 68],\n",
       "  [2, 48, 28, 72],\n",
       "  [45, 70, 1, 15],\n",
       "  [49, 57, 22, 24],\n",
       "  [28, 17, 43, 56],\n",
       "  [73, 75, 7, 3],\n",
       "  [11, 26, 59, 52],\n",
       "  [32, 73, 25, 93],\n",
       "  [4, 87, 15, 58],\n",
       "  [20, 81, 19, 33],\n",
       "  [8, 53, 23, 23],\n",
       "  [17, 84, 61, 7],\n",
       "  [63, 36, 16, 40],\n",
       "  [65, 87, 21, 39],\n",
       "  [15, 75, 50, 67],\n",
       "  [9, 50, 3, 60],\n",
       "  [56, 58, 19, 43],\n",
       "  [60, 86, 17, 29],\n",
       "  [12, 64, 3, 94],\n",
       "  [11, 76, 56, 91],\n",
       "  [2, 61, 8, 2],\n",
       "  [9, 17, 14, 1]],\n",
       " 1: [[86, 57, 8, 95],\n",
       "  [39, 66, 74, 80],\n",
       "  [88, 17, 35, 93],\n",
       "  [85, 60, 74, 97],\n",
       "  [99, 10, 79, 65],\n",
       "  [76, 29, 70, 83],\n",
       "  [73, 22, 76, 97],\n",
       "  [33, 10, 65, 78],\n",
       "  [97, 16, 89, 83],\n",
       "  [78, 73, 44, 76],\n",
       "  [85, 48, 4, 63],\n",
       "  [59, 52, 31, 77],\n",
       "  [55, 55, 91, 96],\n",
       "  [42, 72, 87, 81],\n",
       "  [21, 40, 92, 54],\n",
       "  [14, 34, 81, 81],\n",
       "  [91, 21, 87, 89],\n",
       "  [38, 64, 72, 50],\n",
       "  [95, 96, 70, 71],\n",
       "  [84, 50, 60, 79],\n",
       "  [54, 75, 42, 71],\n",
       "  [75, 62, 27, 61],\n",
       "  [55, 17, 74, 51],\n",
       "  [83, 82, 41, 58],\n",
       "  [97, 78, 50, 57],\n",
       "  [90, 24, 94, 51],\n",
       "  [63, 25, 72, 92],\n",
       "  [59, 66, 86, 47],\n",
       "  [19, 49, 94, 56],\n",
       "  [30, 14, 71, 93],\n",
       "  [54, 19, 81, 88],\n",
       "  [97, 33, 38, 60],\n",
       "  [75, 15, 25, 51],\n",
       "  [98, 20, 77, 93],\n",
       "  [65, 24, 9, 80]],\n",
       " 2: [[23, 82, 91, 9],\n",
       "  [23, 74, 85, 16],\n",
       "  [97, 18, 30, 23],\n",
       "  [21, 39, 59, 23],\n",
       "  [66, 68, 90, 24],\n",
       "  [30, 17, 64, 7],\n",
       "  [96, 13, 72, 7],\n",
       "  [36, 29, 97, 12],\n",
       "  [80, 36, 35, 11],\n",
       "  [47, 97, 73, 5],\n",
       "  [60, 39, 32, 30],\n",
       "  [22, 56, 63, 4],\n",
       "  [30, 63, 78, 36],\n",
       "  [29, 0, 58, 54],\n",
       "  [89, 8, 91, 20],\n",
       "  [66, 26, 78, 27],\n",
       "  [3, 50, 98, 10],\n",
       "  [84, 16, 91, 44],\n",
       "  [54, 58, 75, 44],\n",
       "  [79, 66, 73, 5],\n",
       "  [99, 0, 14, 7],\n",
       "  [59, 24, 38, 10],\n",
       "  [98, 14, 97, 2],\n",
       "  [80, 53, 56, 4]]}"
      ]
     },
     "execution_count": 133,
     "metadata": {},
     "output_type": "execute_result"
    }
   ],
   "source": [
    "kmeans(df,3)"
   ]
  }
 ],
 "metadata": {
  "kernelspec": {
   "display_name": "Python 3",
   "language": "python",
   "name": "python3"
  },
  "language_info": {
   "codemirror_mode": {
    "name": "ipython",
    "version": 3
   },
   "file_extension": ".py",
   "mimetype": "text/x-python",
   "name": "python",
   "nbconvert_exporter": "python",
   "pygments_lexer": "ipython3",
   "version": "3.7.0"
  }
 },
 "nbformat": 4,
 "nbformat_minor": 5
}
